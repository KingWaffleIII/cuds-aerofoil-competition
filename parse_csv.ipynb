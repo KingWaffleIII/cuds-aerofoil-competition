{
 "cells": [
  {
   "cell_type": "code",
   "execution_count": null,
   "id": "61c5d887",
   "metadata": {},
   "outputs": [],
   "source": [
    "import numpy as np\n",
    "import pandas as pd\n",
    "import plotly.express as px\n",
    "import plotly.io as pio\n",
    "\n",
    "pio.renderers.default = \"notebook+pdf\""
   ]
  },
  {
   "cell_type": "code",
   "execution_count": null,
   "id": "27933719",
   "metadata": {},
   "outputs": [],
   "source": [
    "file_name = input(\"Enter the CSV file name without file extension: \")\n",
    "df = pd.read_csv(file_name + '.csv')\n",
    "\n",
    "lift_values = df['FORCE_COEFFICIENT_CL']\n",
    "drag_values = df['FORCE_COEFFICIENT_CD']"
   ]
  },
  {
   "cell_type": "code",
   "execution_count": null,
   "id": "d6b4f826",
   "metadata": {},
   "outputs": [],
   "source": [
    "# plot lift and drag against time\n",
    "fig = px.line(df, x='Time (s)', y=['FORCE_COEFFICIENT_CL', 'FORCE_COEFFICIENT_CD'],\n",
    "              labels={'value': 'Coefficient', 'Time (s)': 'Time / s'},\n",
    "              title='Lift and Drag Coefficients Over Time')\n",
    "fig.update_layout(legend_title_text='Coefficient', hovermode='x unified')\n",
    "fig.for_each_trace(lambda t: t.update(name=t.name.replace('FORCE_COEFFICIENT_CL', 'Lift').replace('FORCE_COEFFICIENT_CD', 'Drag')))\n",
    "fig.add_shape(type=\"line\", x0=500, y0=0, x1=500, y1=1, yref=\"paper\",\n",
    "              line=dict(color=\"Red\", width=2, dash=\"dot\"))\n",
    "fig.show()"
   ]
  },
  {
   "cell_type": "code",
   "execution_count": null,
   "id": "bf375c7b",
   "metadata": {},
   "outputs": [],
   "source": [
    "# average after 500s to remove initial transient effects\n",
    "df = df[df['Time (s)'] > 500]\n",
    "lift_values = df['FORCE_COEFFICIENT_CL']\n",
    "drag_values = df['FORCE_COEFFICIENT_CD']\n",
    "\n",
    "average_lift = np.mean(lift_values)\n",
    "average_drag = np.mean(drag_values)\n",
    "\n",
    "print(\"From 500s onwards (to remove initial transient effects):\")\n",
    "\n",
    "print(f\"Average Lift Coefficient: {average_lift:.3f}\")\n",
    "print(f\"Average Drag Coefficient: {average_drag:.3f}\")\n",
    "\n",
    "# lift/drag ratio\n",
    "lift_drag_ratio = average_lift / average_drag\n",
    "print(f\"Lift/Drag Ratio: {lift_drag_ratio:.3f}\")"
   ]
  }
 ],
 "metadata": {
  "kernelspec": {
   "display_name": ".venv",
   "language": "python",
   "name": "python3"
  },
  "language_info": {
   "codemirror_mode": {
    "name": "ipython",
    "version": 3
   },
   "file_extension": ".py",
   "mimetype": "text/x-python",
   "name": "python",
   "nbconvert_exporter": "python",
   "pygments_lexer": "ipython3",
   "version": "3.13.5"
  }
 },
 "nbformat": 4,
 "nbformat_minor": 5
}
